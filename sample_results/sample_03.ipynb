{
 "cells": [
  {
   "cell_type": "markdown",
   "id": "8afc4cab",
   "metadata": {
    "papermill": {
     "duration": 0.003924,
     "end_time": "2025-01-13T04:39:34.834520",
     "exception": false,
     "start_time": "2025-01-13T04:39:34.830596",
     "status": "completed"
    },
    "tags": []
   },
   "source": [
    "## user  \n",
    "2023年の1月から3月のNVIDIA株価をYahooから取得して、2023年4月以降の株価を予測してください。"
   ]
  },
  {
   "cell_type": "code",
   "execution_count": 1,
   "id": "2b7ab88e",
   "metadata": {
    "execution": {
     "iopub.execute_input": "2025-01-13T04:39:34.843198Z",
     "iopub.status.busy": "2025-01-13T04:39:34.842553Z",
     "iopub.status.idle": "2025-01-13T04:39:36.742959Z",
     "shell.execute_reply": "2025-01-13T04:39:36.741682Z"
    },
    "papermill": {
     "duration": 1.909487,
     "end_time": "2025-01-13T04:39:36.747451",
     "exception": false,
     "start_time": "2025-01-13T04:39:34.837964",
     "status": "completed"
    },
    "tags": []
   },
   "outputs": [
    {
     "name": "stderr",
     "output_type": "stream",
     "text": [
      "\r",
      "[*********************100%***********************]  1 of 1 completed"
     ]
    },
    {
     "name": "stderr",
     "output_type": "stream",
     "text": [
      "\n"
     ]
    },
    {
     "data": {
      "text/html": [
       "<div>\n",
       "<style scoped>\n",
       "    .dataframe tbody tr th:only-of-type {\n",
       "        vertical-align: middle;\n",
       "    }\n",
       "\n",
       "    .dataframe tbody tr th {\n",
       "        vertical-align: top;\n",
       "    }\n",
       "\n",
       "    .dataframe thead tr th {\n",
       "        text-align: left;\n",
       "    }\n",
       "\n",
       "    .dataframe thead tr:last-of-type th {\n",
       "        text-align: right;\n",
       "    }\n",
       "</style>\n",
       "<table border=\"1\" class=\"dataframe\">\n",
       "  <thead>\n",
       "    <tr>\n",
       "      <th>Price</th>\n",
       "      <th>Close</th>\n",
       "      <th>High</th>\n",
       "      <th>Low</th>\n",
       "      <th>Open</th>\n",
       "      <th>Volume</th>\n",
       "    </tr>\n",
       "    <tr>\n",
       "      <th>Ticker</th>\n",
       "      <th>NVDA</th>\n",
       "      <th>NVDA</th>\n",
       "      <th>NVDA</th>\n",
       "      <th>NVDA</th>\n",
       "      <th>NVDA</th>\n",
       "    </tr>\n",
       "    <tr>\n",
       "      <th>Date</th>\n",
       "      <th></th>\n",
       "      <th></th>\n",
       "      <th></th>\n",
       "      <th></th>\n",
       "      <th></th>\n",
       "    </tr>\n",
       "  </thead>\n",
       "  <tbody>\n",
       "    <tr>\n",
       "      <th>2023-01-03</th>\n",
       "      <td>14.304595</td>\n",
       "      <td>14.985101</td>\n",
       "      <td>14.085754</td>\n",
       "      <td>14.840206</td>\n",
       "      <td>401277000</td>\n",
       "    </tr>\n",
       "    <tr>\n",
       "      <th>2023-01-04</th>\n",
       "      <td>14.738280</td>\n",
       "      <td>14.842205</td>\n",
       "      <td>14.230650</td>\n",
       "      <td>14.556413</td>\n",
       "      <td>431324000</td>\n",
       "    </tr>\n",
       "    <tr>\n",
       "      <th>2023-01-05</th>\n",
       "      <td>14.254632</td>\n",
       "      <td>14.553414</td>\n",
       "      <td>14.137716</td>\n",
       "      <td>14.480468</td>\n",
       "      <td>389168000</td>\n",
       "    </tr>\n",
       "    <tr>\n",
       "      <th>2023-01-06</th>\n",
       "      <td>14.848199</td>\n",
       "      <td>14.999089</td>\n",
       "      <td>14.023799</td>\n",
       "      <td>14.463479</td>\n",
       "      <td>405044000</td>\n",
       "    </tr>\n",
       "    <tr>\n",
       "      <th>2023-01-09</th>\n",
       "      <td>15.616642</td>\n",
       "      <td>16.044330</td>\n",
       "      <td>15.129995</td>\n",
       "      <td>15.272892</td>\n",
       "      <td>504231000</td>\n",
       "    </tr>\n",
       "  </tbody>\n",
       "</table>\n",
       "</div>"
      ],
      "text/plain": [
       "Price           Close       High        Low       Open     Volume\n",
       "Ticker           NVDA       NVDA       NVDA       NVDA       NVDA\n",
       "Date                                                             \n",
       "2023-01-03  14.304595  14.985101  14.085754  14.840206  401277000\n",
       "2023-01-04  14.738280  14.842205  14.230650  14.556413  431324000\n",
       "2023-01-05  14.254632  14.553414  14.137716  14.480468  389168000\n",
       "2023-01-06  14.848199  14.999089  14.023799  14.463479  405044000\n",
       "2023-01-09  15.616642  16.044330  15.129995  15.272892  504231000"
      ]
     },
     "execution_count": 1,
     "metadata": {},
     "output_type": "execute_result"
    }
   ],
   "source": [
    "import pandas as pd\n",
    "import yfinance as yf\n",
    "\n",
    "# 2023年1月から3月のNVIDIA株価を取得\n",
    "start_date = \"2023-01-01\"\n",
    "end_date = \"2023-03-31\"\n",
    "nvidia_data = yf.download(\"NVDA\", start=start_date, end=end_date)\n",
    "\n",
    "# データの確認\n",
    "nvidia_data.head()"
   ]
  },
  {
   "cell_type": "markdown",
   "id": "f66c943b",
   "metadata": {
    "papermill": {
     "duration": 0.008781,
     "end_time": "2025-01-13T04:39:36.761298",
     "exception": false,
     "start_time": "2025-01-13T04:39:36.752517",
     "status": "completed"
    },
    "tags": []
   },
   "source": [
    "## assistant  \n",
    "2023年1月から3月のNVIDIA株価データを取得しました。以下は最初の5日間のデータです：\n",
    "\n",
    "| 日付       | 開始価格 (Open) | 高値 (High) | 安値 (Low) | 終値 (Close) | 出来高 (Volume)   |\n",
    "|------------|------------------|-------------|------------|--------------|-------------------|\n",
    "| 2023-01-03 | 14.84            | 14.09       | 14.30      | 14.99        | 401,277,000       |\n",
    "| 2023-01-04 | 14.56            | 14.23       | 14.74      | 14.84        | 431,324,000       |\n",
    "| 2023-01-05 | 14.48            | 14.14       | 14.25      | 14.55        | 389,168,000       |\n",
    "| 2023-01-06 | 14.46            | 14.02       | 14.85      | 14.99        | 405,044,000       |\n",
    "| 2023-01-09 | 15.27            | 15.13       | 15.62      | 16.04        | 504,231,000       |\n",
    "\n",
    "次に、2023年4月以降の株価を予測するために、時系列分析を行います。ARIMAモデルを使用して予測を行います。"
   ]
  },
  {
   "cell_type": "code",
   "execution_count": 2,
   "id": "416b5b66",
   "metadata": {
    "execution": {
     "iopub.execute_input": "2025-01-13T04:39:36.771504Z",
     "iopub.status.busy": "2025-01-13T04:39:36.771094Z",
     "iopub.status.idle": "2025-01-13T04:39:38.834973Z",
     "shell.execute_reply": "2025-01-13T04:39:38.833897Z"
    },
    "papermill": {
     "duration": 2.072015,
     "end_time": "2025-01-13T04:39:38.837953",
     "exception": false,
     "start_time": "2025-01-13T04:39:36.765938",
     "status": "completed"
    },
    "tags": []
   },
   "outputs": [
    {
     "name": "stderr",
     "output_type": "stream",
     "text": [
      "/home/kentaroaoki/anaconda3/envs/py312/lib/python3.12/site-packages/statsmodels/tsa/base/tsa_model.py:473: ValueWarning: A date index has been provided, but it has no associated frequency information and so will be ignored when e.g. forecasting.\n",
      "  self._init_dates(dates, freq)\n",
      "/home/kentaroaoki/anaconda3/envs/py312/lib/python3.12/site-packages/statsmodels/tsa/base/tsa_model.py:473: ValueWarning: A date index has been provided, but it has no associated frequency information and so will be ignored when e.g. forecasting.\n",
      "  self._init_dates(dates, freq)\n",
      "/home/kentaroaoki/anaconda3/envs/py312/lib/python3.12/site-packages/statsmodels/tsa/base/tsa_model.py:473: ValueWarning: A date index has been provided, but it has no associated frequency information and so will be ignored when e.g. forecasting.\n",
      "  self._init_dates(dates, freq)\n",
      "/home/kentaroaoki/anaconda3/envs/py312/lib/python3.12/site-packages/statsmodels/tsa/base/tsa_model.py:837: ValueWarning: No supported index is available. Prediction results will be given with an integer index beginning at `start`.\n",
      "  return get_prediction_index(\n",
      "/home/kentaroaoki/anaconda3/envs/py312/lib/python3.12/site-packages/statsmodels/tsa/base/tsa_model.py:837: FutureWarning: No supported index is available. In the next version, calling this method in a model without a supported index will result in an exception.\n",
      "  return get_prediction_index(\n",
      "/home/kentaroaoki/anaconda3/envs/py312/lib/python3.12/site-packages/IPython/core/pylabtools.py:170: UserWarning: Glyph 26666 (\\N{CJK UNIFIED IDEOGRAPH-682A}) missing from font(s) DejaVu Sans.\n",
      "  fig.canvas.print_figure(bytes_io, **kw)\n",
      "/home/kentaroaoki/anaconda3/envs/py312/lib/python3.12/site-packages/IPython/core/pylabtools.py:170: UserWarning: Glyph 20385 (\\N{CJK UNIFIED IDEOGRAPH-4FA1}) missing from font(s) DejaVu Sans.\n",
      "  fig.canvas.print_figure(bytes_io, **kw)\n",
      "/home/kentaroaoki/anaconda3/envs/py312/lib/python3.12/site-packages/IPython/core/pylabtools.py:170: UserWarning: Glyph 20104 (\\N{CJK UNIFIED IDEOGRAPH-4E88}) missing from font(s) DejaVu Sans.\n",
      "  fig.canvas.print_figure(bytes_io, **kw)\n",
      "/home/kentaroaoki/anaconda3/envs/py312/lib/python3.12/site-packages/IPython/core/pylabtools.py:170: UserWarning: Glyph 28204 (\\N{CJK UNIFIED IDEOGRAPH-6E2C}) missing from font(s) DejaVu Sans.\n",
      "  fig.canvas.print_figure(bytes_io, **kw)\n",
      "/home/kentaroaoki/anaconda3/envs/py312/lib/python3.12/site-packages/IPython/core/pylabtools.py:170: UserWarning: Glyph 24180 (\\N{CJK UNIFIED IDEOGRAPH-5E74}) missing from font(s) DejaVu Sans.\n",
      "  fig.canvas.print_figure(bytes_io, **kw)\n",
      "/home/kentaroaoki/anaconda3/envs/py312/lib/python3.12/site-packages/IPython/core/pylabtools.py:170: UserWarning: Glyph 26376 (\\N{CJK UNIFIED IDEOGRAPH-6708}) missing from font(s) DejaVu Sans.\n",
      "  fig.canvas.print_figure(bytes_io, **kw)\n",
      "/home/kentaroaoki/anaconda3/envs/py312/lib/python3.12/site-packages/IPython/core/pylabtools.py:170: UserWarning: Glyph 20197 (\\N{CJK UNIFIED IDEOGRAPH-4EE5}) missing from font(s) DejaVu Sans.\n",
      "  fig.canvas.print_figure(bytes_io, **kw)\n",
      "/home/kentaroaoki/anaconda3/envs/py312/lib/python3.12/site-packages/IPython/core/pylabtools.py:170: UserWarning: Glyph 38477 (\\N{CJK UNIFIED IDEOGRAPH-964D}) missing from font(s) DejaVu Sans.\n",
      "  fig.canvas.print_figure(bytes_io, **kw)\n"
     ]
    },
    {
     "name": "stderr",
     "output_type": "stream",
     "text": [
      "/home/kentaroaoki/anaconda3/envs/py312/lib/python3.12/site-packages/IPython/core/pylabtools.py:170: UserWarning: Glyph 26085 (\\N{CJK UNIFIED IDEOGRAPH-65E5}) missing from font(s) DejaVu Sans.\n",
      "  fig.canvas.print_figure(bytes_io, **kw)\n",
      "/home/kentaroaoki/anaconda3/envs/py312/lib/python3.12/site-packages/IPython/core/pylabtools.py:170: UserWarning: Glyph 20184 (\\N{CJK UNIFIED IDEOGRAPH-4ED8}) missing from font(s) DejaVu Sans.\n",
      "  fig.canvas.print_figure(bytes_io, **kw)\n",
      "/home/kentaroaoki/anaconda3/envs/py312/lib/python3.12/site-packages/IPython/core/pylabtools.py:170: UserWarning: Glyph 23455 (\\N{CJK UNIFIED IDEOGRAPH-5B9F}) missing from font(s) DejaVu Sans.\n",
      "  fig.canvas.print_figure(bytes_io, **kw)\n",
      "/home/kentaroaoki/anaconda3/envs/py312/lib/python3.12/site-packages/IPython/core/pylabtools.py:170: UserWarning: Glyph 38555 (\\N{CJK UNIFIED IDEOGRAPH-969B}) missing from font(s) DejaVu Sans.\n",
      "  fig.canvas.print_figure(bytes_io, **kw)\n",
      "/home/kentaroaoki/anaconda3/envs/py312/lib/python3.12/site-packages/IPython/core/pylabtools.py:170: UserWarning: Glyph 12398 (\\N{HIRAGANA LETTER NO}) missing from font(s) DejaVu Sans.\n",
      "  fig.canvas.print_figure(bytes_io, **kw)\n"
     ]
    },
    {
     "data": {
      "image/png": "[encoded data removed]",
      "text/plain": [
       "<Figure size 1200x600 with 1 Axes>"
      ]
     },
     "metadata": {},
     "output_type": "display_data"
    }
   ],
   "source": [
    "from statsmodels.tsa.arima.model import ARIMA\r\n",
    "import numpy as np\r\n",
    "import matplotlib.pyplot as plt\r\n",
    "\r\n",
    "# 終値データを取得\r\n",
    "nvidia_close = nvidia_data['Close']\r\n",
    "\r\n",
    "# ARIMAモデルの適用\r\n",
    "model = ARIMA(nvidia_close, order=(5, 1, 0))  # (p,d,q)のパラメータは適宜調整\r\n",
    "model_fit = model.fit()\r\n",
    "\r\n",
    "# 2023年4月から6月までの予測\r\n",
    "forecast_steps = 60  # 60日間の予測\r\n",
    "forecast = model_fit.forecast(steps=forecast_steps)\r\n",
    "\r\n",
    "# 予測結果のプロット\r\n",
    "plt.figure(figsize=(12, 6))\r\n",
    "plt.plot(nvidia_close.index, nvidia_close, label='実際の株価', color='blue')\r\n",
    "plt.plot(pd.date_range(start='2023-04-01', periods=forecast_steps, freq='B'), forecast, label='予測株価', color='orange')\r\n",
    "plt.title('NVIDIA株価予測 (2023年4月以降)')\r\n",
    "plt.xlabel('日付')\r\n",
    "plt.ylabel('株価')\r\n",
    "plt.legend()\r\n",
    "plt.grid()\r\n",
    "plt.show()"
   ]
  },
  {
   "cell_type": "markdown",
   "id": "3faaf61b",
   "metadata": {},
   "source": [
    "## assistant  \n",
    "NVIDIAの2023年1月から3月の株価データを基に、2023年4月以降の株価を予測しました。以下のグラフは、実際の株価（青色）と予測株価（オレンジ色）を示しています。\n",
    "\n",
    "- **実際の株価**: 2023年1月から3月のNVIDIAの終値。\n",
    "- **予測株価**: ARIMAモデルを用いて2023年4月から6月までの株価を予測した結果。\n",
    "\n",
    "この予測は、過去のデータに基づいており、実際の市場の動向や外部要因によって変動する可能性があります。予測結果を参考にする際は、リスクを考慮してください。"
   ]
  }
 ],
 "metadata": {
  "language_info": {
   "codemirror_mode": {
    "name": "ipython",
    "version": 3
   },
   "file_extension": ".py",
   "mimetype": "text/x-python",
   "name": "python",
   "nbconvert_exporter": "python",
   "pygments_lexer": "ipython3",
   "version": "3.12.8"
  },
  "papermill": {
   "default_parameters": {},
   "duration": 6.812397,
   "end_time": "2025-01-13T04:39:40.067162",
   "environment_variables": {},
   "exception": null,
   "input_path": "/home/kentaroaoki/pci/results/running_4hwqa5g2.ipynb",
   "output_path": "/home/kentaroaoki/pci/results/running_a30oc0zj.ipynb",
   "parameters": {},
   "start_time": "2025-01-13T04:39:33.254765",
   "version": "2.4.0"
  }
 },
 "nbformat": 4,
 "nbformat_minor": 5
}